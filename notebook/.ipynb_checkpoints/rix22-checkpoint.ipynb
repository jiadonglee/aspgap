{
 "cells": [
  {
   "cell_type": "code",
   "execution_count": 1,
   "id": "6a149922-f944-40df-9493-5f9cf1d520cc",
   "metadata": {},
   "outputs": [],
   "source": [
    "import os\n",
    "os.environ[\"SDSS_LOCAL_SAS_MIRROR\"]=\"/data/jdli/sdss/\"\n",
    "os.environ[\"RESULTS_VERS\"]=\"dr17\"\n",
    "os.environ[\"GAIA_TOOLS_DATA\"]=\"/data/jdli/gaia/\"\n",
    "\n",
    "%matplotlib inline\n",
    "%load_ext autoreload\n",
    "%autoreload 2\n",
    "from pylab import *\n",
    "\n",
    "from astropy.table import Table, join\n",
    "from astropy.io import fits\n",
    "from tqdm import tqdm\n",
    "import numpy as np\n",
    "import pandas as pd\n",
    "\n",
    "import matplotlib\n",
    "from matplotlib import rcParams\n",
    "from matplotlib import colors\n",
    "import matplotlib.pyplot as plt\n",
    "rcParams[\"savefig.dpi\"] = 100\n",
    "rcParams[\"figure.dpi\"] = 100\n",
    "rcParams[\"font.size\"] = 14\n",
    "\n",
    "\n",
    "import cmasher as cmr\n"
   ]
  },
  {
   "cell_type": "code",
   "execution_count": 2,
   "id": "c4b6f022-2f76-4deb-9daf-99d78d23b111",
   "metadata": {},
   "outputs": [
    {
     "name": "stdout",
     "output_type": "stream",
     "text": [
      "INFO: Login to gaia TAP server [astroquery.gaia.core]\n"
     ]
    },
    {
     "name": "stdin",
     "output_type": "stream",
     "text": [
      "User:  jli06\n",
      "Password:  ········\n"
     ]
    },
    {
     "name": "stdout",
     "output_type": "stream",
     "text": [
      "OK\n",
      "INFO: Login to gaia data server [astroquery.gaia.core]\n",
      "OK\n"
     ]
    }
   ],
   "source": [
    "from astroquery.gaia import Gaia\n",
    "Gaia.login()\n",
    "# jli06\n",
    "# zwHD5BFFcbT@HZW"
   ]
  },
  {
   "cell_type": "code",
   "execution_count": 6,
   "id": "8bb5b7b9-d52d-4f15-802c-17fb607c0f9f",
   "metadata": {},
   "outputs": [
    {
     "name": "stdout",
     "output_type": "stream",
     "text": [
      "122962\n"
     ]
    }
   ],
   "source": [
    "hwr = Table.read(os.environ[\"GAIA_TOOLS_DATA\"]+\"HWR_for_Jiandong.fits\")\n",
    "\n",
    "source_id = hwr['source_id'].data\n",
    "print(len(source_id))"
   ]
  },
  {
   "cell_type": "code",
   "execution_count": 13,
   "id": "addf77e2-0d50-44f9-8e16-4b585146e02f",
   "metadata": {},
   "outputs": [
    {
     "name": "stdout",
     "output_type": "stream",
     "text": [
      "* Input list contains 122962 source_IDs\n",
      "* This list is split into 25 chunks of <= 5000 elements each\n"
     ]
    }
   ],
   "source": [
    "def chunks(lst, n):\n",
    "    \"\"\n",
    "    \"Split an input list into multiple chunks of size =< n\"\n",
    "    \"\"\n",
    "    for i in range(0, len(lst), n):\n",
    "        yield lst[i:i+n]\n",
    "        \n",
    "        \n",
    "dl_threshold = 5000               # DataLink server threshold. It is not possible to download products for more than 5000 sources in one single call.\n",
    "ids          = np.array([int(s) for s in hwr['source_id']])\n",
    "ids_chunks   = list(chunks(ids, dl_threshold))\n",
    "datalink_all = []\n",
    "\n",
    "\n",
    "print(f'* Input list contains {len(ids)} source_IDs')\n",
    "print(f'* This list is split into {len(ids_chunks)} chunks of <= {dl_threshold} elements each')\n",
    "\n"
   ]
  },
  {
   "cell_type": "code",
   "execution_count": null,
   "id": "9a058381-d6f8-4196-871a-6151a7ef8574",
   "metadata": {},
   "outputs": [
    {
     "name": "stdout",
     "output_type": "stream",
     "text": [
      "Downloading Chunk #1; N_files = 5000\n",
      "Downloading Chunk #2; N_files = 5000\n",
      "Downloading Chunk #3; N_files = 5000\n",
      "Downloading Chunk #4; N_files = 5000\n",
      "Downloading Chunk #5; N_files = 5000\n",
      "Downloading Chunk #6; N_files = 5000\n",
      "Downloading Chunk #7; N_files = 5000\n",
      "Downloading Chunk #8; N_files = 5000\n",
      "Downloading Chunk #9; N_files = 5000\n",
      "Downloading Chunk #10; N_files = 5000\n",
      "Downloading Chunk #11; N_files = 5000\n",
      "Downloading Chunk #12; N_files = 5000\n",
      "Downloading Chunk #13; N_files = 5000\n",
      "Downloading Chunk #14; N_files = 5000\n"
     ]
    }
   ],
   "source": [
    "# retrieval_type = 'XP_SAMPLED'  # Options are: 'EPOCH_PHOTOMETRY', 'MCMC_GSPPHOT', 'MCMC_MSC', 'XP_SAMPLED', 'XP_CONTINUOUS', 'RVS', 'ALL'\n",
    "retrieval_type = 'XP_CONTINUOUS'\n",
    "data_structure = 'COMBINED'   # Options are: 'INDIVIDUAL', 'COMBINED', 'RAW'\n",
    "data_release   = 'Gaia DR3' # Options are: 'Gaia DR3' (default), 'Gaia DR2'\n",
    "dl_key         = f'{retrieval_type}_{data_structure}.xml'\n",
    "\n",
    "datalink_all = []\n",
    "\n",
    "# dl_keys  = [inp for inp in datalink.keys()]\n",
    "# dl_keys.sort()\n",
    "\n",
    "ii = 0\n",
    "for chunk in ids_chunks:\n",
    "    ii+=1\n",
    "    print(f'Downloading Chunk #{ii}; N_files = {len(chunk)}')\n",
    "    datalink  = Gaia.load_data(ids=chunk,\n",
    "                               data_release = data_release, \n",
    "                               retrieval_type=retrieval_type, format='votable',\n",
    "                               data_structure=data_structure)\n",
    "    \n",
    "    datalink_all.append(datalink)"
   ]
  },
  {
   "cell_type": "code",
   "execution_count": 15,
   "id": "cf59bcc1-ef78-4c7c-b1fd-165bc4dac489",
   "metadata": {},
   "outputs": [
    {
     "name": "stderr",
     "output_type": "stream",
     "text": [
      "25it [00:00, 47.71it/s]"
     ]
    },
    {
     "name": "stdout",
     "output_type": "stream",
     "text": [
      "(33754, 55) (33754, 55) (33754, 55) (33754, 55)\n",
      "33754\n"
     ]
    },
    {
     "name": "stderr",
     "output_type": "stream",
     "text": [
      "\n"
     ]
    }
   ],
   "source": [
    "product_list_tb  = [item for sublist in datalink_all for item in sublist[dl_key]]\n",
    "product_list_ids = [sid for sublist in datalink_all for item in sublist[dl_key] for sid in item.array[\"source_id\"].data]\n",
    "\n",
    "N_COEFF = 55\n",
    "\n",
    "\n",
    "bp_coef = []\n",
    "rp_coef = []\n",
    "e_bp_coef, e_rp_coef = [], []\n",
    "\n",
    "i = 0\n",
    "for kk,tab in tqdm(enumerate(product_list_tb)):\n",
    "    \n",
    "    bp_coefficients         = np.array([d.data for d in tab.array[\"bp_coefficients\"]]).reshape(-1, N_COEFF)\n",
    "    bp_coefficients_errors  = np.array([d.data for d in tab.array[\"bp_coefficient_errors\"]]).reshape(-1, N_COEFF)\n",
    "\n",
    "\n",
    "    rp_coefficients         = np.array([d.data for d in tab.array[\"rp_coefficients\"]]).reshape(-1, N_COEFF)\n",
    "    rp_coefficients_errors  = np.array([d.data for d in tab.array[\"rp_coefficient_errors\"]]).reshape(-1, N_COEFF)\n",
    "    \n",
    "    bp_coef.append(bp_coefficients)\n",
    "    rp_coef.append(rp_coefficients)\n",
    "    \n",
    "    e_bp_coef.append(bp_coefficients_errors)\n",
    "    e_rp_coef.append(rp_coefficients_errors)\n",
    "    \n",
    "    \n",
    "bp_coef = np.vstack(tuple([_ for _ in bp_coef]))\n",
    "rp_coef = np.vstack(tuple([_ for _ in rp_coef]))\n",
    "e_bp_coef = np.vstack(tuple([_ for _ in e_bp_coef]))\n",
    "e_rp_coef = np.vstack(tuple([_ for _ in e_rp_coef]))\n",
    "\n",
    "print(bp_coef.shape, rp_coef.shape, e_bp_coef.shape, e_rp_coef.shape)\n",
    "print(len(product_list_ids))"
   ]
  },
  {
   "cell_type": "code",
   "execution_count": null,
   "id": "97c0eeeb-5875-4f3d-8fdc-1686af321dad",
   "metadata": {},
   "outputs": [],
   "source": []
  }
 ],
 "metadata": {
  "kernelspec": {
   "display_name": "Python 3 (ipykernel)",
   "language": "python",
   "name": "python3"
  },
  "language_info": {
   "codemirror_mode": {
    "name": "ipython",
    "version": 3
   },
   "file_extension": ".py",
   "mimetype": "text/x-python",
   "name": "python",
   "nbconvert_exporter": "python",
   "pygments_lexer": "ipython3",
   "version": "3.9.13"
  }
 },
 "nbformat": 4,
 "nbformat_minor": 5
}
