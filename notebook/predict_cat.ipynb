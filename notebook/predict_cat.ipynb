{
 "cells": [
  {
   "cell_type": "code",
   "execution_count": 3,
   "id": "0a6b162e-7e8f-4b82-875a-371e0c608622",
   "metadata": {},
   "outputs": [
    {
     "name": "stdout",
     "output_type": "stream",
     "text": [
      "The autoreload extension is already loaded. To reload it, use:\n",
      "  %reload_ext autoreload\n"
     ]
    }
   ],
   "source": [
    "%load_ext autoreload\n",
    "%autoreload 2\n",
    "import matplotlib\n",
    "from matplotlib import rcParams, rc\n",
    "import matplotlib.pyplot as plt\n",
    "from matplotlib import colors\n",
    "import pandas as pd\n",
    "import numpy as np\n",
    "from astropy.table import Table, join\n",
    "from astropy.io import fits\n",
    "from tqdm import tqdm\n",
    "\n",
    "import cmasher as cmr\n",
    "cmap = cmr.dusk\n",
    "\n",
    "from tqdm import tqdm\n",
    "import joblib \n",
    "\n",
    "rcParams[\"savefig.dpi\"] = 150\n",
    "rcParams[\"figure.dpi\"] = 100\n",
    "rcParams[\"font.size\"] = 8\n",
    "rcParams['font.family'] = 'sans-serif'\n",
    "%config InlineBackend.figure_format = \"retina\"\n",
    "\n",
    "import sys\n",
    "sys.path.append(\"/home/jdli/transpec\")\n",
    "\n",
    "import time\n",
    "import os\n",
    "import torch\n",
    "from torch.utils.data import DataLoader, SubsetRandomSampler\n",
    "from sklearn.model_selection import KFold\n",
    "from kvxp.xpformer import XPformer, XPformer2\n",
    "from kvxp.data import  GXP_AP_4lb, GXP_5lb, GXP_4lb\n",
    "from kvxp.utils import *\n",
    "from kvxp.vis import draw_hist2d"
   ]
  },
  {
   "cell_type": "code",
   "execution_count": 24,
   "id": "53410355-29d8-4779-9c13-535ad9ccf0c4",
   "metadata": {},
   "outputs": [
    {
     "name": "stdout",
     "output_type": "stream",
     "text": [
      "(122962, 8) Index(['source_id', 'ra', 'dec', 'parallax', 'phot_g_mean_mag', 'mh_xgboost',\n",
      "       'teff_xgboost', 'logg_xgboost'],\n",
      "      dtype='object')\n"
     ]
    }
   ],
   "source": [
    "df = Table.read(\"/data/jdli/gaia/HWR_for_Jiandong.fits\").to_pandas()\n",
    "\n",
    "print(df.shape, df.columns)"
   ]
  },
  {
   "cell_type": "code",
   "execution_count": 25,
   "id": "1e408d6e-7eb8-4a26-967a-d8433973118c",
   "metadata": {},
   "outputs": [
    {
     "name": "stderr",
     "output_type": "stream",
     "text": [
      "1it [00:31, 31.16s/it]"
     ]
    },
    {
     "name": "stdout",
     "output_type": "stream",
     "text": [
      "0\n"
     ]
    },
    {
     "name": "stderr",
     "output_type": "stream",
     "text": [
      "2it [01:02, 31.08s/it]"
     ]
    },
    {
     "name": "stdout",
     "output_type": "stream",
     "text": [
      "0\n"
     ]
    },
    {
     "name": "stderr",
     "output_type": "stream",
     "text": [
      "3it [01:35, 31.90s/it]"
     ]
    },
    {
     "name": "stdout",
     "output_type": "stream",
     "text": [
      "0\n"
     ]
    },
    {
     "name": "stderr",
     "output_type": "stream",
     "text": [
      "4it [02:06, 31.58s/it]"
     ]
    },
    {
     "name": "stdout",
     "output_type": "stream",
     "text": [
      "0\n"
     ]
    },
    {
     "name": "stderr",
     "output_type": "stream",
     "text": [
      "5it [02:39, 32.07s/it]"
     ]
    },
    {
     "name": "stdout",
     "output_type": "stream",
     "text": [
      "0\n"
     ]
    },
    {
     "name": "stderr",
     "output_type": "stream",
     "text": [
      "6it [03:10, 31.68s/it]"
     ]
    },
    {
     "name": "stdout",
     "output_type": "stream",
     "text": [
      "0\n"
     ]
    },
    {
     "name": "stderr",
     "output_type": "stream",
     "text": [
      "7it [03:42, 32.11s/it]"
     ]
    },
    {
     "name": "stdout",
     "output_type": "stream",
     "text": [
      "0\n"
     ]
    },
    {
     "name": "stderr",
     "output_type": "stream",
     "text": [
      "8it [04:13, 31.69s/it]"
     ]
    },
    {
     "name": "stdout",
     "output_type": "stream",
     "text": [
      "0\n"
     ]
    },
    {
     "name": "stderr",
     "output_type": "stream",
     "text": [
      "9it [04:46, 32.02s/it]"
     ]
    },
    {
     "name": "stdout",
     "output_type": "stream",
     "text": [
      "0\n"
     ]
    },
    {
     "name": "stderr",
     "output_type": "stream",
     "text": [
      "10it [05:17, 31.74s/it]"
     ]
    },
    {
     "name": "stdout",
     "output_type": "stream",
     "text": [
      "0\n"
     ]
    },
    {
     "name": "stderr",
     "output_type": "stream",
     "text": [
      "11it [05:50, 32.21s/it]"
     ]
    },
    {
     "name": "stdout",
     "output_type": "stream",
     "text": [
      "0\n"
     ]
    },
    {
     "name": "stderr",
     "output_type": "stream",
     "text": [
      "12it [06:22, 31.88s/it]"
     ]
    },
    {
     "name": "stdout",
     "output_type": "stream",
     "text": [
      "0\n"
     ]
    },
    {
     "name": "stderr",
     "output_type": "stream",
     "text": [
      "13it [06:55, 32.22s/it]"
     ]
    },
    {
     "name": "stdout",
     "output_type": "stream",
     "text": [
      "0\n"
     ]
    },
    {
     "name": "stderr",
     "output_type": "stream",
     "text": [
      "14it [07:26, 31.84s/it]"
     ]
    },
    {
     "name": "stdout",
     "output_type": "stream",
     "text": [
      "0\n"
     ]
    },
    {
     "name": "stderr",
     "output_type": "stream",
     "text": [
      "15it [07:59, 32.19s/it]"
     ]
    },
    {
     "name": "stdout",
     "output_type": "stream",
     "text": [
      "0\n"
     ]
    },
    {
     "name": "stderr",
     "output_type": "stream",
     "text": [
      "16it [08:29, 31.82s/it]"
     ]
    },
    {
     "name": "stdout",
     "output_type": "stream",
     "text": [
      "0\n"
     ]
    },
    {
     "name": "stderr",
     "output_type": "stream",
     "text": [
      "17it [08:57, 31.64s/it]"
     ]
    },
    {
     "name": "stdout",
     "output_type": "stream",
     "text": [
      "0\n",
      "(4, 122962, 55)\n"
     ]
    },
    {
     "name": "stderr",
     "output_type": "stream",
     "text": [
      "\n"
     ]
    }
   ],
   "source": [
    "def recover_coef(series):\n",
    "    return [list(map(float, s[1:-1].split(','))) for s in series]\n",
    "\n",
    "\n",
    "def l2norm(y):\n",
    "    return np.sqrt(np.sum(y**2, axis=1))\n",
    "\n",
    "bp_scaler_name = \"/home/jdli/transpec/models/scaler_bp_gmagand_0228.gz\"\n",
    "rp_scaler_name = \"/home/jdli/transpec/models/scaler_rp_gmagand_0228.gz\"\n",
    "label_scaler_name = \"/home/jdli/transpec/models/scaler_labels_0228.gz'\"\n",
    "\n",
    "coef_names = ['bp_coefficients', 'bp_coefficient_errors', \n",
    "              'rp_coefficients', 'rp_coefficient_errors']\n",
    "\n",
    "pred_dfs = pd.DataFrame()\n",
    "    \n",
    "xp_coeff_array = np.zeros([4, len(df), 55])\n",
    "\n",
    "xp_chunks = pd.read_csv(\n",
    "    \"/nfsdata/share/gaiaxp/gdr3_jdli_sid_xp_continuous_mean_spectrum.csv\", \n",
    "    chunksize=int(1e6), sep=\"|\")\n",
    "\n",
    "df = Table.read(\"/home/jdli/transpec/data/GaiaDR3_SID_G16.fits\").to_pandas()\n",
    "\n",
    "save_dir = \"/nfsdata/share/gaiaxp/\"\n",
    "save_name = \"xp_2tian.npy\"\n",
    "\n",
    "\n",
    "for i,xp_chunk in tqdm(enumerate(xp_chunks)):\n",
    "    \n",
    "    pred_df  = pd.merge(df, xp_chunk, left_on='source_id', right_on='source_id')\n",
    "    pred_dfs = pd.concat((pred_dfs, pred_df), axis='index')\n",
    "    print(len(pred_dfs))\n",
    "\n",
    "\n",
    "for col in coef_names:\n",
    "    pred_dfs[col] = recover_coef(pred_dfs[col])\n",
    "    \n",
    "print(xp_coeff_array.shape)"
   ]
  },
  {
   "cell_type": "code",
   "execution_count": null,
   "id": "60e1d6ab-978c-4f87-aec9-2d91d7b6a8cb",
   "metadata": {},
   "outputs": [],
   "source": [
    "xp_chunks = pd.read_csv(\n",
    "    \"/nfsdata/share/gaiaxp/gdr3_jdli_sid_xp_continuous_mean_spectrum.csv\", \n",
    "    sep=\"|\"\n",
    ")"
   ]
  },
  {
   "cell_type": "code",
   "execution_count": null,
   "id": "bff83319-aea9-46c0-a0b5-0cd4b0bc4c98",
   "metadata": {},
   "outputs": [],
   "source": []
  }
 ],
 "metadata": {
  "kernelspec": {
   "display_name": "Python 3 (ipykernel)",
   "language": "python",
   "name": "python3"
  },
  "language_info": {
   "codemirror_mode": {
    "name": "ipython",
    "version": 3
   },
   "file_extension": ".py",
   "mimetype": "text/x-python",
   "name": "python",
   "nbconvert_exporter": "python",
   "pygments_lexer": "ipython3",
   "version": "3.9.13"
  }
 },
 "nbformat": 4,
 "nbformat_minor": 5
}
