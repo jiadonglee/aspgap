{
 "cells": [
  {
   "cell_type": "code",
   "execution_count": null,
   "id": "c95f7968-661d-4620-9fec-6516ecad59fb",
   "metadata": {},
   "outputs": [],
   "source": [
    "from tqdm import tqdm\n",
    "import torch\n",
    "import numpy as np\n",
    "import joblib\n",
    "\n",
    "import sys\n",
    "sys.path.append(\"/home/jdli/transpec\")\n",
    "from kvxp.kvxp import xp2label\n",
    "from kvxp.data import GXP_5lb\n",
    "from astroquery.gaia import Gaia\n",
    "from tqdm import tqdm\n",
    "import pandas as pd\n",
    "import time"
   ]
  }
 ],
 "metadata": {
  "kernelspec": {
   "display_name": "Python 3 (ipykernel)",
   "language": "python",
   "name": "python3"
  },
  "language_info": {
   "codemirror_mode": {
    "name": "ipython",
    "version": 3
   },
   "file_extension": ".py",
   "mimetype": "text/x-python",
   "name": "python",
   "nbconvert_exporter": "python",
   "pygments_lexer": "ipython3",
   "version": "3.9.13"
  }
 },
 "nbformat": 4,
 "nbformat_minor": 5
}
