{
 "cells": [
  {
   "cell_type": "code",
   "execution_count": 1,
   "id": "3777945b-e3f1-40d8-b0ca-95a004875461",
   "metadata": {},
   "outputs": [
    {
     "name": "stderr",
     "output_type": "stream",
     "text": [
      "WARNING: hdu= was not specified but multiple tables are present, reading in first available table (hdu=1) [astropy.io.fits.connect]\n"
     ]
    }
   ],
   "source": [
    "%matplotlib inline\n",
    "%load_ext autoreload\n",
    "%autoreload 2\n",
    "\n",
    "import os\n",
    "import pandas as pd\n",
    "from astropy.table import Table\n",
    "from tqdm import tqdm\n",
    "import numpy as np\n",
    "\n",
    "try:\n",
    "    import fitsio\n",
    "    fitsread= fitsio.read\n",
    "    fitswrite=fitsio.write\n",
    "    headerread=fitsio.read_header\n",
    "    _FITSIO_LOADED = True\n",
    "    \n",
    "except ImportError:\n",
    "    import astropy.io.fits as pyfits\n",
    "    fitsread= pyfits.getdata\n",
    "    fitswrite=pyfits.writeto\n",
    "    headerread=pyfits.getheader\n",
    "    _FITSIO_LOADED = False\n",
    "\n",
    "cat = Table.read(\"/data/jdli/sdss/dr17/allStar-dr17-synspec_rev1.fits\")\n",
    "# df = cat.to_pandas()\n",
    "\n",
    "# print(cat.info)\n"
   ]
  },
  {
   "cell_type": "code",
   "execution_count": 2,
   "id": "5e218174-bb50-44f3-b007-2de0302fb287",
   "metadata": {},
   "outputs": [],
   "source": [
    "names = [name for name in cat.colnames if len(cat[name].shape) <= 1]\n",
    "\n",
    "df = cat[names].to_pandas()"
   ]
  },
  {
   "cell_type": "code",
   "execution_count": 3,
   "id": "67aa4d1a-c7ed-42b1-a219-9df6c5051347",
   "metadata": {},
   "outputs": [
    {
     "name": "stdout",
     "output_type": "stream",
     "text": [
      "(332904, 215)\n"
     ]
    }
   ],
   "source": [
    "gdf = df.copy()\n",
    "# gdf = gdf.merge(df_raw[['GAIAEDR3_SOURCE_ID', 'tmass_id']])\n",
    "\n",
    "mask_labels = (gdf['M_H']>-2.5) & (gdf['M_H']<0.6) &\\\n",
    "            (gdf['TEFF']>3000) & (gdf['TEFF']<7000) &\\\n",
    "            (gdf['LOGG']>0.) & (gdf['LOGG']<5.5) &\\\n",
    "            (gdf['ALPHA_M']>-1) & (gdf['ALPHA_M']<1) & (gdf['ASPCAPFLAG']==0) &\\\n",
    "            (gdf['LOGG_ERR']<0.1) & (gdf['TEFF_ERR']<50) &\\\n",
    "            (gdf['ALPHA_M_ERR']<0.02) & (gdf['M_H_ERR']<0.015)\n",
    "        \n",
    "# mask_photo = (gdf['J']>6) & (gdf['J']<14.) &\\\n",
    "#             (gdf['H']>6) & (gdf['H']<14.) &\\\n",
    "#             (gdf['K']>6) & (gdf['K']<14.) &\\\n",
    "#             (gdf['Qfl_J']=='A') & (gdf['Qfl_H']=='A') & (gdf['Qfl_K']=='A')&\\\n",
    "#             (gdf['W1mag']>6) & (gdf['W1mag']<13.) &\\\n",
    "#             (gdf['W2mag']>6) & (gdf['W2mag']<13.) &\\\n",
    "#             (gdf['qph_w1']=='A') & (gdf['qph_w2']=='A')\n",
    "\n",
    "# mask_spec = (gdf['snr_bp10']>100.) & (gdf['snr_bp55']>1.) &\\\n",
    "#             (gdf['snr_rp10']>100.) & (gdf['snr_rp55']>1.)\n",
    "\n",
    "# mask  = mask_labels & mask_photo & mask_spec\n",
    "mask = mask_labels\n",
    "\n",
    "# print(gdf.shape, gdf[mask_labels].shape, gdf[mask_photo].shape, gdf[mask_spec].shape)\n",
    "print(gdf[mask].shape)\n"
   ]
  },
  {
   "cell_type": "code",
   "execution_count": 6,
   "id": "5b95e60c-9a01-49e4-a66d-3b1355c36733",
   "metadata": {},
   "outputs": [
    {
     "name": "stdout",
     "output_type": "stream",
     "text": [
      "['apo25m' 'lco25m' 'apo1m'] \n",
      " ['120+12' '116-04' 'N7789' ... 'K2_C12_083-66_btx' 'sgr_tidal10'\n",
      " 'K2_C12_089-63_btx']\n"
     ]
    }
   ],
   "source": [
    "# gdf[mask].to_csv(\"/data/jdli/sdss/dr17/ap17_lbcut.csv\", index=False)\n",
    "\n",
    "adf = gdf[mask].copy(deep=True)\n",
    "\n",
    "def convert_string_uft8(series):\n",
    "    return [s.decode('utf-8').strip() for s in series]\n",
    "\n",
    "adf['APOGEE_ID'] = convert_string_uft8(adf['APOGEE_ID'])\n",
    "adf['TELESCOPE'] = convert_string_uft8(adf['TELESCOPE'])\n",
    "adf['FIELD']     = convert_string_uft8(adf['FIELD'])\n",
    "\n",
    "print(adf['TELESCOPE'].unique(), \"\\n\", adf['FIELD'].unique())"
   ]
  },
  {
   "cell_type": "code",
   "execution_count": null,
   "id": "37f833cb-abcd-41c5-a6e2-d521ae90f8ec",
   "metadata": {
    "tags": []
   },
   "outputs": [
    {
     "name": "stderr",
     "output_type": "stream",
     "text": [
      " 25%|████████████████                                                | 54400/217534 [00:11<00:00, 540677.28it/s]"
     ]
    }
   ],
   "source": [
    "import multiprocessing\n",
    "import urllib.request\n",
    "\n",
    "spec_dir = \"/data/jdli/sdss/dr17/spec_ap17_lbcut/\"\n",
    "n_split = 115370\n",
    "\n",
    "def download_spectrum(telescope, field, apogee_id, save_dir=spec_dir):\n",
    "    \n",
    "    # if not os.path.exists(save_dir):\n",
    "    #     print(\"make dir %s\"%save_dir)\n",
    "    #     os.makedirs(save_dir)\n",
    "    \n",
    "    url = f\"https://data.sdss.org/sas/dr17/apogee/spectro/aspcap/dr17/synspec_rev1/{telescope}/{field}/aspcapStar-dr17-{apogee_id}.fits\"\n",
    "    filename = f\"{apogee_id}.fits\"\n",
    "    filepath = save_dir+filename\n",
    "    \n",
    "    if not os.path.exists(filepath):\n",
    "        try: \n",
    "            urllib.request.urlretrieve(url, save_dir+filename)\n",
    "        except Exception:\n",
    "            print(f\"no such a spectra of APOGEE_ID = {apogee_id}\")\n",
    "    \n",
    "\n",
    "# Number of parallel processes\n",
    "num_processes = 64\n",
    "\n",
    "# Create a pool of processes\n",
    "with multiprocessing.Pool(processes=num_processes) as pool:\n",
    "    \n",
    "    pool.starmap(download_spectrum, tqdm(\n",
    "        zip(adf['TELESCOPE'].values[n_split:], \n",
    "            adf['FIELD'].values[n_split:], \n",
    "            adf['APOGEE_ID'].values[n_split:],\n",
    "           ), total=len(adf)-n_split))\n"
   ]
  },
  {
   "cell_type": "code",
   "execution_count": 9,
   "id": "584fe912-bb8b-4241-9ffb-6a55c62735e5",
   "metadata": {},
   "outputs": [
    {
     "name": "stdout",
     "output_type": "stream",
     "text": [
      "115370\n",
      "332904\n",
      "195631\n"
     ]
    }
   ],
   "source": [
    "\n",
    "spec_dir = \"/data/jdli/sdss/dr17/spec_ap17_lbcut/\"\n",
    "ava_spec_names = os.listdir(spec_dir)\n",
    "print(len(ava_spec_names))\n",
    "\n",
    "cat_spec_names = [f\"{i}.fits\" for i in adf['APOGEE_ID'].values]\n",
    "print(len(cat_spec_names))\n",
    "\n",
    "res_spec_names = list(set(cat_spec_names) - set(ava_spec_names))\n",
    "print(len(res_spec_names))"
   ]
  },
  {
   "cell_type": "code",
   "execution_count": 11,
   "id": "a01a76fb-11e4-4d3e-9bfb-c4548ec72299",
   "metadata": {},
   "outputs": [],
   "source": [
    "def read_spec(fname):\n",
    "    pri_header = headerread(fname, 0, memmap=False)\n",
    "    flux = fitsread(fname, 1, memmap=False)\n",
    "    e_flux = fitsread(fname, 2, memmap=False)\n",
    "    mask = fitsread(fname, 3, memmap=False)\n",
    "    \n",
    "    if (len(flux.shape)>1)&(len(e_flux.shape)>1)&(len(mask.shape)>1):\n",
    "        flux, e_flux, mask = flux[0], e_flux[0], mask[0] \n",
    "\n",
    "    return {'tmass_id':pri_header['OBJID'], 'flux':flux, 'fluxerr':e_flux, 'mask':mask, }\n",
    "\n",
    "\n",
    "# read_spec(fname_lst[0])"
   ]
  },
  {
   "cell_type": "code",
   "execution_count": null,
   "id": "f993dff4-b838-44d0-8114-08af462d63d5",
   "metadata": {},
   "outputs": [],
   "source": [
    "normspecDict_trlst = []\n",
    "normspecDict_vallst= []\n",
    "\n",
    "for i in tqdm(range(len(specDict_lst))):\n",
    "    d = specDict_lst[i]\n",
    "    \n",
    "    # try:\n",
    "    spec = d['flux']\n",
    "    spec_err = d['fluxerr']\n",
    "    spec_mask = d['mask']\n",
    "\n",
    "    norm_spec, norm_spec_err = apogee_continuum(\n",
    "        spec, spec_err, bitmask=spec_mask, dr=14\n",
    "    )\n",
    "\n",
    "    ind = df['2MASS_ID'].str.decode(\"utf-8\")==d['tmass_id']\n",
    "\n",
    "    prlx, e_prlx = df[ind]['Gaia_parallax'].values, df[ind]['Gaia_parallax_err'].values\n",
    "    prlx_hogg, e_prlx_hogg = df[ind]['spec_parallax'].values, df[ind]['spec_parallax_err'].values\n",
    "    mags = df[['Jmag', 'Hmag', 'Kmag', 'W1mag', 'W2mag']][ind].values\n",
    "\n",
    "    data = {'norm_spec':norm_spec, 'norm_spec_err':norm_spec_err, \n",
    "            'mag':mags, \n",
    "            'tmass_id':d['tmass_id'], \n",
    "            'Gaia_parallax':prlx,  'Gaia_parallax_err':e_prlx, \n",
    "            'spec_parallax':prlx_hogg, 'spec_parallax_err':e_prlx_hogg,}\n",
    "\n",
    "    if df[ind]['training_set'].values==1:\n",
    "        normspecDict_trlst.append(data)\n",
    "    elif df[ind]['training_set'].values==0:\n",
    "        normspecDict_vallst.append(data)\n",
    "    else:\n",
    "        print(df['training_set'][ind].values)\n",
    "            \n",
    "    # except:\n",
    "    #     print(\"normalization failed\")\n",
    "        \n",
    "print(len(normspecDict_trlst), len(normspecDict_vallst))"
   ]
  }
 ],
 "metadata": {
  "kernelspec": {
   "display_name": "Python 3 (ipykernel)",
   "language": "python",
   "name": "python3"
  },
  "language_info": {
   "codemirror_mode": {
    "name": "ipython",
    "version": 3
   },
   "file_extension": ".py",
   "mimetype": "text/x-python",
   "name": "python",
   "nbconvert_exporter": "python",
   "pygments_lexer": "ipython3",
   "version": "3.9.13"
  }
 },
 "nbformat": 4,
 "nbformat_minor": 5
}
