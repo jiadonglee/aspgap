{
 "cells": [
  {
   "cell_type": "code",
   "execution_count": 2,
   "id": "3777945b-e3f1-40d8-b0ca-95a004875461",
   "metadata": {},
   "outputs": [
    {
     "name": "stderr",
     "output_type": "stream",
     "text": [
      "WARNING: hdu= was not specified but multiple tables are present, reading in first available table (hdu=1) [astropy.io.fits.connect]\n"
     ]
    }
   ],
   "source": [
    "%matplotlib inline\n",
    "%load_ext autoreload\n",
    "%autoreload 2\n",
    "\n",
    "import os\n",
    "import pandas as pd\n",
    "from astropy.table import Table\n",
    "from tqdm import tqdm\n",
    "import numpy as np\n",
    "\n",
    "try:\n",
    "    import fitsio\n",
    "    fitsread= fitsio.read\n",
    "    fitswrite=fitsio.write\n",
    "    headerread=fitsio.read_header\n",
    "    _FITSIO_LOADED = True\n",
    "    \n",
    "except ImportError:\n",
    "    import astropy.io.fits as pyfits\n",
    "    fitsread= pyfits.getdata\n",
    "    fitswrite=pyfits.writeto\n",
    "    headerread=pyfits.getheader\n",
    "    _FITSIO_LOADED = False\n",
    "\n",
    "cat = Table.read(\"/data/jdli/sdss/dr17/allStar-dr17-synspec_rev1.fits\")\n",
    "# df = cat.to_pandas()\n",
    "\n",
    "# print(cat.info)\n"
   ]
  },
  {
   "cell_type": "code",
   "execution_count": 3,
   "id": "5e218174-bb50-44f3-b007-2de0302fb287",
   "metadata": {},
   "outputs": [],
   "source": [
    "names = [name for name in cat.colnames if len(cat[name].shape) <= 1]\n",
    "\n",
    "df = cat[names].to_pandas()"
   ]
  },
  {
   "cell_type": "code",
   "execution_count": 4,
   "id": "67aa4d1a-c7ed-42b1-a219-9df6c5051347",
   "metadata": {},
   "outputs": [
    {
     "name": "stdout",
     "output_type": "stream",
     "text": [
      "(332904, 215)\n"
     ]
    }
   ],
   "source": [
    "gdf = df.copy()\n",
    "# gdf = gdf.merge(df_raw[['GAIAEDR3_SOURCE_ID', 'tmass_id']])\n",
    "\n",
    "mask_labels = (gdf['M_H']>-2.5) & (gdf['M_H']<0.6) &\\\n",
    "            (gdf['TEFF']>3000) & (gdf['TEFF']<7000) &\\\n",
    "            (gdf['LOGG']>0.) & (gdf['LOGG']<5.5) &\\\n",
    "            (gdf['ALPHA_M']>-1) & (gdf['ALPHA_M']<1) & (gdf['ASPCAPFLAG']==0) &\\\n",
    "            (gdf['LOGG_ERR']<0.1) & (gdf['TEFF_ERR']<50) &\\\n",
    "            (gdf['ALPHA_M_ERR']<0.02) & (gdf['M_H_ERR']<0.015)\n",
    "        \n",
    "# mask_photo = (gdf['J']>6) & (gdf['J']<14.) &\\\n",
    "#             (gdf['H']>6) & (gdf['H']<14.) &\\\n",
    "#             (gdf['K']>6) & (gdf['K']<14.) &\\\n",
    "#             (gdf['Qfl_J']=='A') & (gdf['Qfl_H']=='A') & (gdf['Qfl_K']=='A')&\\\n",
    "#             (gdf['W1mag']>6) & (gdf['W1mag']<13.) &\\\n",
    "#             (gdf['W2mag']>6) & (gdf['W2mag']<13.) &\\\n",
    "#             (gdf['qph_w1']=='A') & (gdf['qph_w2']=='A')\n",
    "\n",
    "# mask_spec = (gdf['snr_bp10']>100.) & (gdf['snr_bp55']>1.) &\\\n",
    "#             (gdf['snr_rp10']>100.) & (gdf['snr_rp55']>1.)\n",
    "\n",
    "# mask  = mask_labels & mask_photo & mask_spec\n",
    "mask = mask_labels\n",
    "\n",
    "# print(gdf.shape, gdf[mask_labels].shape, gdf[mask_photo].shape, gdf[mask_spec].shape)\n",
    "print(gdf[mask].shape)"
   ]
  },
  {
   "cell_type": "code",
   "execution_count": 54,
   "id": "eb55b28c-c90a-4c6d-8a07-e0566b3c2047",
   "metadata": {},
   "outputs": [],
   "source": [
    "gdf[mask].to_csv(\"/data/jdli/gaia/ap17_332904.csv\", index=False)\n",
    "\n"
   ]
  },
  {
   "cell_type": "code",
   "execution_count": 5,
   "id": "5b95e60c-9a01-49e4-a66d-3b1355c36733",
   "metadata": {},
   "outputs": [
    {
     "name": "stdout",
     "output_type": "stream",
     "text": [
      "['apo25m' 'lco25m' 'apo1m'] \n",
      " ['120+12' '116-04' 'N7789' ... 'K2_C12_083-66_btx' 'sgr_tidal10'\n",
      " 'K2_C12_089-63_btx']\n"
     ]
    }
   ],
   "source": [
    "# gdf[mask].to_csv(\"/data/jdli/sdss/dr17/ap17_lbcut.csv\", index=False)\n",
    "\n",
    "adf = gdf[mask].copy(deep=True)\n",
    "\n",
    "def convert_string_uft8(series):\n",
    "    return [s.decode('utf-8').strip() for s in series]\n",
    "\n",
    "adf['APOGEE_ID'] = convert_string_uft8(adf['APOGEE_ID'])\n",
    "adf['TELESCOPE'] = convert_string_uft8(adf['TELESCOPE'])\n",
    "adf['FIELD']     = convert_string_uft8(adf['FIELD'])\n",
    "\n",
    "print(adf['TELESCOPE'].unique(), \"\\n\", adf['FIELD'].unique())"
   ]
  },
  {
   "cell_type": "code",
   "execution_count": 6,
   "id": "37f833cb-abcd-41c5-a6e2-d521ae90f8ec",
   "metadata": {
    "tags": []
   },
   "outputs": [
    {
     "name": "stderr",
     "output_type": "stream",
     "text": [
      "100%|█████████████████████████████████████████████████████████████████| 64657/64657 [00:00<00:00, 185785.77it/s]\n"
     ]
    }
   ],
   "source": [
    "import multiprocessing\n",
    "import urllib.request\n",
    "\n",
    "spec_dir = \"/data/jdli/sdss/dr17/spec_ap17_lbcut/\"\n",
    "n_split = 268247\n",
    "\n",
    "def download_spectrum(telescope, field, apogee_id, save_dir=spec_dir):\n",
    "    \n",
    "    # if not os.path.exists(save_dir):\n",
    "    #     print(\"make dir %s\"%save_dir)\n",
    "    #     os.makedirs(save_dir)\n",
    "    \n",
    "    url = f\"https://data.sdss.org/sas/dr17/apogee/spectro/aspcap/dr17/synspec_rev1/{telescope}/{field}/aspcapStar-dr17-{apogee_id}.fits\"\n",
    "    filename = f\"{apogee_id}.fits\"\n",
    "    filepath = save_dir+filename\n",
    "    \n",
    "    if not os.path.exists(filepath):\n",
    "        try: \n",
    "            urllib.request.urlretrieve(url, save_dir+filename)\n",
    "        except Exception:\n",
    "            print(f\"no such a spectra of APOGEE_ID = {apogee_id}\")\n",
    "    \n",
    "\n",
    "# Number of parallel processes\n",
    "num_processes = 64\n",
    "\n",
    "# Create a pool of processes\n",
    "with multiprocessing.Pool(processes=num_processes) as pool:\n",
    "    \n",
    "    pool.starmap(download_spectrum, tqdm(\n",
    "        zip(adf['TELESCOPE'].values[n_split:], \n",
    "            adf['FIELD'].values[n_split:], \n",
    "            adf['APOGEE_ID'].values[n_split:],\n",
    "           ), total=len(adf)-n_split))\n"
   ]
  },
  {
   "cell_type": "code",
   "execution_count": 7,
   "id": "584fe912-bb8b-4241-9ffb-6a55c62735e5",
   "metadata": {},
   "outputs": [
    {
     "name": "stdout",
     "output_type": "stream",
     "text": [
      "268378\n",
      "332904\n",
      "42623\n"
     ]
    }
   ],
   "source": [
    "spec_dir = \"/data/jdli/sdss/dr17/spec_ap17_lbcut/\"\n",
    "ava_spec_names = os.listdir(spec_dir)\n",
    "print(len(ava_spec_names))\n",
    "\n",
    "cat_spec_names = [f\"{i}.fits\" for i in adf['APOGEE_ID'].values]\n",
    "print(len(cat_spec_names))\n",
    "\n",
    "res_spec_names = list(set(cat_spec_names) - set(ava_spec_names))\n",
    "print(len(res_spec_names))"
   ]
  },
  {
   "cell_type": "code",
   "execution_count": 109,
   "id": "a01a76fb-11e4-4d3e-9bfb-c4548ec72299",
   "metadata": {},
   "outputs": [],
   "source": [
    "def read_spec(fname):\n",
    "    # pri_header = headerread(fname, 0, memmap=False)\n",
    "    hdul = fits.open(fname)\n",
    "    \n",
    "    try:\n",
    "        flux = fitsread(fname, 1, memmap=False)\n",
    "        e_flux = fitsread(fname, 2, memmap=False)\n",
    "        mask = fitsread(fname, 3, memmap=False)\n",
    "        tmass_id = hdul[4].data[0][1]\n",
    "    except:\n",
    "        flux, e_flux, mask = np.nan,  np.nan,  np.nan \n",
    "        tmass_id = np.nan\n",
    "    # if (len(flux.shape)>1)&(len(e_flux.shape)>1)&(len(mask.shape)>1):\n",
    "    #     flux, e_flux, mask = flux[0], e_flux[0], mask[0]\n",
    "    # else:\n",
    "    #     flux, e_flux, mask = np.nan,  np.nan,  np.nan \n",
    "    \n",
    "    hdul.close()\n",
    "    return {'tmass_id':tmass_id, 'flux':flux, 'fluxerr':e_flux, 'mask':mask}\n",
    "\n",
    "x = read_spec(spec_dir+ava_spec_names[0])"
   ]
  },
  {
   "cell_type": "code",
   "execution_count": 100,
   "id": "ad48e2c2-1bbe-4869-9663-b44d82d43cec",
   "metadata": {},
   "outputs": [
    {
     "data": {
      "image/png": "[encoded data removed]",
      "text/plain": [
       "<Figure size 640x480 with 1 Axes>"
      ]
     },
     "metadata": {},
     "output_type": "display_data"
    }
   ],
   "source": [
    "import matplotlib.pyplot as plt\n",
    "\n",
    "x = read_spec(spec_dir+ava_spec_names[0])\n",
    "plt.plot(x['flux'])\n",
    "len(x['flux'])\n",
    "plt.ylim([0., 2]);"
   ]
  },
  {
   "cell_type": "code",
   "execution_count": null,
   "id": "74e1bbb5-a76c-4e25-aafe-138b4bd8a46a",
   "metadata": {},
   "outputs": [],
   "source": [
    "# # plt.plot(x['mask']*x['flux'])\n",
    "# tmass_ids = []\n",
    "# fluxes = []\n",
    "# fluxerrs = []\n",
    "# masks = []\n",
    "\n",
    "# for sp_name in tqdm(ava_spec_names):\n",
    "    \n",
    "#     spec_dict = read_spec(spec_dir+sp_name)\n",
    "#     tmass_ids.append(spec_dict['tmass_id'])\n",
    "#     fluxes.append(spec_dict['flux'])\n",
    "#     fluxerrs.append(spec_dict['fluxerr'])\n",
    "#     masks.append(spec_dict['mask'])\n",
    "    "
   ]
  },
  {
   "cell_type": "code",
   "execution_count": 107,
   "id": "0d07d741-4ec1-49c4-a564-5b6bb166b93b",
   "metadata": {},
   "outputs": [
    {
     "data": {
      "text/plain": [
       "[<matplotlib.lines.Line2D at 0x7fafea5fe220>]"
      ]
     },
     "execution_count": 107,
     "metadata": {},
     "output_type": "execute_result"
    },
    {
     "data": {
      "image/png": "[encoded data removed]",
      "text/plain": [
       "<Figure size 640x480 with 1 Axes>"
      ]
     },
     "metadata": {},
     "output_type": "display_data"
    }
   ],
   "source": [
    "plt.plot(result[10]['flux'])"
   ]
  },
  {
   "cell_type": "code",
   "execution_count": 110,
   "id": "3be7b864-2748-444c-a2e0-7fb7d5c70c7f",
   "metadata": {},
   "outputs": [
    {
     "name": "stderr",
     "output_type": "stream",
     "text": [
      " 25%|████████████████████████████████████████▏                                                                                                                        | 67007/268378 [00:00<00:01, 143313.37it/s]WARNING: File may have been truncated: actual file length (8192) is smaller than the expected size (74880) [astropy.io.fits.file]\n",
      " 25%|████████████████████████████████████████▏                                                                                                                        | 67007/268378 [00:14<00:01, 143313.37it/s]WARNING: File may have been truncated: actual file length (8192) is smaller than the expected size (74880) [astropy.io.fits.file]\n",
      "WARNING: File may have been truncated: actual file length (8192) is smaller than the expected size (74880) [astropy.io.fits.file]\n",
      "WARNING: VerifyWarning: Error validating header for HDU #4 (note: Astropy uses zero-based indexing).\n",
      "    Header size is not multiple of 2880: 18688\n",
      "There may be extra bytes after the last HDU or the file is corrupted. [astropy.io.fits.hdu.hdulist]\n",
      "WARNING: File may have been truncated: actual file length (8192) is smaller than the expected size (74880) [astropy.io.fits.file]\n",
      "WARNING: VerifyWarning: Error validating header for HDU #4 (note: Astropy uses zero-based indexing).\n",
      "    Header size is not multiple of 2880: 18688\n",
      "There may be extra bytes after the last HDU or the file is corrupted. [astropy.io.fits.hdu.hdulist]\n",
      "WARNING: File may have been truncated: actual file length (8192) is smaller than the expected size (74880) [astropy.io.fits.file]\n",
      "WARNING: VerifyWarning: Error validating header for HDU #4 (note: Astropy uses zero-based indexing).\n",
      "    Header size is not multiple of 2880: 18688\n",
      " 25%|█████████████████████████████████████████▋                                                                                                                          | 68185/268378 [01:38<07:57, 419.09it/s]\n",
      " 26%|██████████████████████████████████████████▎                                                                                                                         | 69234/268378 [01:42<08:07, 408.27it/s]WARNING: File may have been truncated: actual file length (8192) is smaller than the expected size (74880) [astropy.io.fits.file]\n",
      " 41%|██████████████████████████████████████████████████████████████████▍                                                                                               | 110145/268378 [02:34<02:10, 1210.23it/s]WARNING: File may have been truncated: actual file length (8192) is smaller than the expected size (74880) [astropy.io.fits.file]\n",
      " 50%|████████████████████████████████████████████████████████████████████████████████▉                                                                                  | 133223/268378 [02:54<04:11, 536.48it/s]WARNING: File may have been truncated: actual file length (8192) is smaller than the expected size (74880) [astropy.io.fits.file]\n",
      " 50%|██████████████████████████████████████████████████████████████████████████████████                                                                                  | 134272/268378 [03:15<24:42, 90.48it/s]WARNING: File may have been truncated: actual file length (90112) is smaller than the expected size (146880) [astropy.io.fits.file]\n",
      " 50%|██████████████████████████████████████████████████████████████████████████████████▏                                                                                | 135321/268378 [03:18<16:51, 131.53it/s]WARNING: VerifyWarning: Error validating header for HDU #4 (note: Astropy uses zero-based indexing).\n",
      "    Header size is not multiple of 2880: 18688\n",
      "There may be extra bytes after the last HDU or the file is corrupted. [astropy.io.fits.hdu.hdulist]\n",
      " 52%|████████████████████████████████████████████████████████████████████████████████████▏                                                                              | 138586/268378 [03:31<06:42, 322.13it/s]WARNING: VerifyWarning: Error validating header for HDU #4 (note: Astropy uses zero-based indexing).\n",
      "    Header size is not multiple of 2880: 18688\n",
      "There may be extra bytes after the last HDU or the file is corrupted. [astropy.io.fits.hdu.hdulist]\n",
      " 52%|████████████████████████████████████████████████████████████████████████████████████▋                                                                              | 139517/268378 [03:45<07:42, 278.43it/s]WARNING: VerifyWarning: Error validating header for HDU #4 (note: Astropy uses zero-based indexing).\n",
      "    Header size is not multiple of 2880: 18688\n",
      "There may be extra bytes after the last HDU or the file is corrupted. [astropy.io.fits.hdu.hdulist]\n",
      " 53%|██████████████████████████████████████████████████████████████████████████████████████▋                                                                            | 142664/268378 [03:50<08:10, 256.31it/s]WARNING: File may have been truncated: actual file length (8192) is smaller than the expected size (74880) [astropy.io.fits.file]\n",
      " 54%|███████████████████████████████████████████████████████████████████████████████████████▉                                                                           | 144802/268378 [03:59<08:31, 241.63it/s]WARNING: VerifyWarning: Error validating header for HDU #4 (note: Astropy uses zero-based indexing).\n",
      "    Header size is not multiple of 2880: 18688\n",
      "There may be extra bytes after the last HDU or the file is corrupted. [astropy.io.fits.hdu.hdulist]\n",
      " 55%|█████████████████████████████████████████████████████████████████████████████████████████▏                                                                         | 146860/268378 [04:00<03:47, 533.18it/s]WARNING: VerifyWarning: Error validating header for HDU #4 (note: Astropy uses zero-based indexing).\n",
      "    Header size is not multiple of 2880: 18688\n",
      "There may be extra bytes after the last HDU or the file is corrupted. [astropy.io.fits.hdu.hdulist]\n",
      " 57%|█████████████████████████████████████████████████████████████████████████████████████████████▋                                                                     | 154203/268378 [04:11<03:18, 574.94it/s]WARNING: File may have been truncated: actual file length (90112) is smaller than the expected size (146880) [astropy.io.fits.file]\n",
      " 61%|████████████████████████████████████████████████████████████████████████████████████████████████████                                                               | 164757/268378 [04:29<03:28, 498.09it/s]WARNING: VerifyWarning: Error validating header for HDU #4 (note: Astropy uses zero-based indexing).\n",
      "    Header size is not multiple of 2880: 18688\n",
      "There may be extra bytes after the last HDU or the file is corrupted. [astropy.io.fits.hdu.hdulist]\n",
      "WARNING: VerifyWarning: Error validating header for HDU #4 (note: Astropy uses zero-based indexing).\n",
      "    Header size is not multiple of 2880: 18688\n",
      "There may be extra bytes after the last HDU or the file is corrupted. [astropy.io.fits.hdu.hdulist]\n",
      " 63%|██████████████████████████████████████████████████████████████████████████████████████████████████████▋                                                            | 168987/268378 [04:39<02:39, 623.19it/s]WARNING: File may have been truncated: actual file length (204800) is smaller than the expected size (218880) [astropy.io.fits.file]\n",
      " 64%|████████████████████████████████████████████████████████████████████████████████████████████████████████▌                                                          | 172094/268378 [04:47<04:32, 353.69it/s]WARNING: File may have been truncated: actual file length (8192) is smaller than the expected size (74880) [astropy.io.fits.file]\n",
      "WARNING: File may have been truncated: actual file length (8192) is smaller than the expected size (74880) [astropy.io.fits.file]\n",
      "WARNING: File may have been truncated: actual file length (8192) is smaller than the expected size (74880) [astropy.io.fits.file]\n",
      " 69%|████████████████████████████████████████████████████████████████████████████████████████████████████████████████▊                                                  | 185797/268378 [05:07<01:47, 767.65it/s]WARNING: File may have been truncated: actual file length (8192) is smaller than the expected size (74880) [astropy.io.fits.file]\n",
      " 75%|██████████████████████████████████████████████████████████████████████████████████████████████████████████████████████████▉                                        | 202515/268378 [05:27<02:05, 525.71it/s]WARNING: VerifyWarning: Error validating header for HDU #4 (note: Astropy uses zero-based indexing).\n",
      "    Header size is not multiple of 2880: 18688\n",
      "There may be extra bytes after the last HDU or the file is corrupted. [astropy.io.fits.hdu.hdulist]\n",
      "WARNING: File may have been truncated: actual file length (8192) is smaller than the expected size (74880) [astropy.io.fits.file]\n",
      " 78%|██████████████████████████████████████████████████████████████████████████████████████████████████████████████████████████████▊                                    | 208751/268378 [05:53<03:37, 273.91it/s]WARNING: File may have been truncated: actual file length (139264) is smaller than the expected size (146880) [astropy.io.fits.file]\n",
      " 84%|████████████████████████████████████████████████████████████████████████████████████████████████████████████████████████████████████████▉                          | 225535/268378 [06:22<01:48, 394.25it/s]WARNING: File may have been truncated: actual file length (90112) is smaller than the expected size (146880) [astropy.io.fits.file]\n",
      " 84%|█████████████████████████████████████████████████████████████████████████████████████████████████████████████████████████████████████████                          | 225587/268378 [06:22<01:52, 378.73it/s]WARNING: File may have been truncated: actual file length (8192) is smaller than the expected size (74880) [astropy.io.fits.file]\n",
      " 86%|████████████████████████████████████████████████████████████████████████████████████████████████████████████████████████████████████████████▏                      | 230848/268378 [06:34<01:02, 603.30it/s]WARNING: File may have been truncated: actual file length (8192) is smaller than the expected size (74880) [astropy.io.fits.file]\n",
      " 90%|█████████████████████████████████████████████████████████████████████████████████████████████████████████████████████████████████████████████████▉                 | 240221/268378 [07:01<00:52, 534.40it/s]WARNING: File may have been truncated: actual file length (8192) is smaller than the expected size (74880) [astropy.io.fits.file]\n",
      " 90%|███████████████████████████████████████████████████████████████████████████████████████████████████████████████████████████████████████████████████▏               | 242319/268378 [07:06<01:02, 420.23it/s]WARNING: File may have been truncated: actual file length (8192) is smaller than the expected size (74880) [astropy.io.fits.file]\n",
      " 90%|███████████████████████████████████████████████████████████████████████████████████████████████████████████████████████████████████████████████████▏               | 242367/268378 [07:07<01:06, 391.57it/s]WARNING: File may have been truncated: actual file length (90112) is smaller than the expected size (146880) [astropy.io.fits.file]\n",
      " 91%|█████████████████████████████████████████████████████████████████████████████████████████████████████████████████████████████████████████████████████▏             | 245538/268378 [07:16<00:49, 457.07it/s]WARNING: File may have been truncated: actual file length (8192) is smaller than the expected size (74880) [astropy.io.fits.file]\n",
      " 93%|██████████████████████████████████████████████████████████████████████████████████████████████████████████████████████████████████████████████████████▋           | 249662/268378 [07:20<00:18, 1018.77it/s]WARNING: File may have been truncated: actual file length (139264) is smaller than the expected size (146880) [astropy.io.fits.file]\n",
      "WARNING: File may have been truncated: actual file length (8192) is smaller than the expected size (74880) [astropy.io.fits.file]\n",
      " 95%|███████████████████████████████████████████████████████████████████████████████████████████████████████████████████████████████████████████████████████████▍       | 255956/268378 [07:32<00:22, 563.22it/s]WARNING: File may have been truncated: actual file length (8192) is smaller than the expected size (74880) [astropy.io.fits.file]\n",
      " 99%|█████████████████████████████████████████████████████████████████████████████████████████████████████████████████████████████████████████████████████████████████▊ | 266523/268378 [07:45<00:03, 522.57it/s]WARNING: File may have been truncated: actual file length (8192) is smaller than the expected size (74880) [astropy.io.fits.file]\n",
      "100%|███████████████████████████████████████████████████████████████████████████████████████████████████████████████████████████████████████████████████████████████████| 268378/268378 [07:48<00:00, 573.45it/s]\n",
      "WARNING: VerifyWarning: Error validating header for HDU #4 (note: Astropy uses zero-based indexing).\n",
      "    Header size is not multiple of 2880: 18688\n",
      "There may be extra bytes after the last HDU or the file is corrupted. [astropy.io.fits.hdu.hdulist]\n",
      "WARNING: File may have been truncated: actual file length (8192) is smaller than the expected size (74880) [astropy.io.fits.file]\n",
      "WARNING: File may have been truncated: actual file length (8192) is smaller than the expected size (74880) [astropy.io.fits.file]\n",
      "WARNING: VerifyWarning: Error validating header for HDU #4 (note: Astropy uses zero-based indexing).\n",
      "    Header size is not multiple of 2880: 18688\n",
      "There may be extra bytes after the last HDU or the file is corrupted. [astropy.io.fits.hdu.hdulist]\n",
      "WARNING: VerifyWarning: Error validating header for HDU #4 (note: Astropy uses zero-based indexing).\n",
      "    Header size is not multiple of 2880: 18688\n",
      "There may be extra bytes after the last HDU or the file is corrupted. [astropy.io.fits.hdu.hdulist]\n",
      "WARNING: File may have been truncated: actual file length (8192) is smaller than the expected size (74880) [astropy.io.fits.file]\n",
      "WARNING: File may have been truncated: actual file length (8192) is smaller than the expected size (74880) [astropy.io.fits.file]\n"
     ]
    }
   ],
   "source": [
    "# Number of parallel processes\n",
    "num_processes = 64\n",
    "ava_spec_paths = [spec_dir+s for s in ava_spec_names]\n",
    "\n",
    "# Create a pool of processes\n",
    "with multiprocessing.Pool(processes=num_processes) as pool:\n",
    "    \n",
    "    result = pool.map(read_spec, tqdm(ava_spec_paths))"
   ]
  },
  {
   "cell_type": "code",
   "execution_count": 112,
   "id": "33a94d07-573e-4b9f-9048-1faf365af9d8",
   "metadata": {},
   "outputs": [
    {
     "data": {
      "text/plain": [
       "268378"
      ]
     },
     "execution_count": 112,
     "metadata": {},
     "output_type": "execute_result"
    }
   ],
   "source": [
    "result"
   ]
  },
  {
   "cell_type": "code",
   "execution_count": null,
   "id": "f993dff4-b838-44d0-8114-08af462d63d5",
   "metadata": {},
   "outputs": [],
   "source": [
    "# normspecDict_trlst = []\n",
    "# normspecDict_vallst= []\n",
    "\n",
    "# for i in tqdm(range(len(specDict_lst))):\n",
    "#     d = specDict_lst[i]\n",
    "    \n",
    "#     # try:\n",
    "#     spec = d['flux']\n",
    "#     spec_err = d['fluxerr']\n",
    "#     spec_mask = d['mask']\n",
    "\n",
    "#     norm_spec, norm_spec_err = apogee_continuum(\n",
    "#         spec, spec_err, bitmask=spec_mask, dr=14\n",
    "#     )\n",
    "\n",
    "#     ind = df['2MASS_ID'].str.decode(\"utf-8\")==d['tmass_id']\n",
    "\n",
    "#     prlx, e_prlx = df[ind]['Gaia_parallax'].values, df[ind]['Gaia_parallax_err'].values\n",
    "#     prlx_hogg, e_prlx_hogg = df[ind]['spec_parallax'].values, df[ind]['spec_parallax_err'].values\n",
    "#     mags = df[['Jmag', 'Hmag', 'Kmag', 'W1mag', 'W2mag']][ind].values\n",
    "\n",
    "#     data = {'norm_spec':norm_spec, 'norm_spec_err':norm_spec_err, \n",
    "#             'mag':mags, \n",
    "#             'tmass_id':d['tmass_id'], \n",
    "#             'Gaia_parallax':prlx,  'Gaia_parallax_err':e_prlx, \n",
    "#             'spec_parallax':prlx_hogg, 'spec_parallax_err':e_prlx_hogg,}\n",
    "\n",
    "#     if df[ind]['training_set'].values==1:\n",
    "#         normspecDict_trlst.append(data)\n",
    "#     elif df[ind]['training_set'].values==0:\n",
    "#         normspecDict_vallst.append(data)\n",
    "#     else:\n",
    "#         print(df['training_set'][ind].values)\n",
    "            \n",
    "#     # except:\n",
    "#     #     print(\"normalization failed\")\n",
    "        \n",
    "# print(len(normspecDict_trlst), len(normspecDict_vallst))"
   ]
  },
  {
   "cell_type": "code",
   "execution_count": null,
   "id": "9f1d3166-678c-4dbb-97a2-90b1c99a4075",
   "metadata": {},
   "outputs": [],
   "source": []
  }
 ],
 "metadata": {
  "kernelspec": {
   "display_name": "Python 3 (ipykernel)",
   "language": "python",
   "name": "python3"
  },
  "language_info": {
   "codemirror_mode": {
    "name": "ipython",
    "version": 3
   },
   "file_extension": ".py",
   "mimetype": "text/x-python",
   "name": "python",
   "nbconvert_exporter": "python",
   "pygments_lexer": "ipython3",
   "version": "3.9.13"
  }
 },
 "nbformat": 4,
 "nbformat_minor": 5
}
