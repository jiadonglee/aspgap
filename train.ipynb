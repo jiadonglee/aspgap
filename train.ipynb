{
 "cells": [
  {
   "cell_type": "code",
   "execution_count": 1,
   "id": "d078f732-57f4-46f2-922b-5931a5854e85",
   "metadata": {},
   "outputs": [],
   "source": [
    "# import numpy as np\n",
    "# %load_ext autoreload\n",
    "# %autoreload 2\n",
    "import time\n",
    "import torch\n",
    "from torch.utils.data import DataLoader\n",
    "from transGaia.transgaia import Spec2label\n",
    "from transGaia.data import GaiaXP_allcoefs_5label_cont_norm, GaiaXP_55coefs_5label_cont_ANDnorm"
   ]
  },
  {
   "cell_type": "code",
   "execution_count": 2,
   "id": "2a772738-7635-4c10-a025-b93248c094aa",
   "metadata": {},
   "outputs": [
    {
     "name": "stdout",
     "output_type": "stream",
     "text": [
      "450 450 100\n"
     ]
    }
   ],
   "source": [
    "data_dir = \"/data/jdli/gaia/\"\n",
    "tr_file = \"ap17_wise_xpcont_cut.npy\"\n",
    "\n",
    "# device = torch.device('cuda:1')\n",
    "device = torch.device('cpu')\n",
    "TOTAL_NUM = 1000\n",
    "BATCH_SIZE = 128\n",
    "\n",
    "gdata  = GaiaXP_allcoefs_5label_cont_norm(\n",
    "    data_dir+tr_file, total_num=TOTAL_NUM, \n",
    "    part_train=True,  device=device\n",
    ")\n",
    "\n",
    "val_size = int(0.1*len(gdata))\n",
    "A_size = int(0.5*(len(gdata)-val_size))\n",
    "B_size = len(gdata) - A_size - val_size\n",
    "\n",
    "A_dataset, B_dataset, val_dataset = torch.utils.data.random_split(gdata, [A_size, B_size, val_size], generator=torch.Generator().manual_seed(42))\n",
    "\n",
    "print(len(A_dataset), len(B_dataset), len(val_dataset))\n",
    "\n",
    "A_loader = DataLoader(A_dataset, batch_size=BATCH_SIZE)\n",
    "B_loader = DataLoader(B_dataset, batch_size=BATCH_SIZE)\n",
    "val_loader = DataLoader(val_dataset, batch_size=BATCH_SIZE)"
   ]
  },
  {
   "cell_type": "code",
   "execution_count": 3,
   "id": "885d6ca6-b66b-4b5f-bcb4-5cb2ea1a1c51",
   "metadata": {},
   "outputs": [
    {
     "name": "stdout",
     "output_type": "stream",
     "text": [
      "===================================\n",
      "Traing A begin\n"
     ]
    }
   ],
   "source": [
    "##==================Model parameters============================\n",
    "##==============================================================\n",
    "#===============================================================\n",
    "INPUT_LEN = 55*2+3\n",
    "\n",
    "model = Spec2label(\n",
    "    n_encoder_inputs=INPUT_LEN,\n",
    "    n_outputs=1, channels=512, n_heads=8, n_layers=8,\n",
    ").to(device)\n",
    "\n",
    "# cost = torch.nn.GaussianNLLLoss(full=True, reduction='mean')\n",
    "cost = torch.nn.MSELoss(reduction='mean')\n",
    "\n",
    "# optimizer = torch.optim.Adam(model.parameters(), lr=1e-4)\n",
    "optimizer = torch.optim.Adam(\n",
    "    model.parameters(),\n",
    "    lr=1e-3, weight_decay=1e-6\n",
    ")\n",
    "# scheduler = torch.optim.lr_scheduler.ReduceLROnPlateau(optimizer, patience=10, factor=0.1)\n",
    "scheduler = torch.optim.lr_scheduler.StepLR(optimizer, 1.0, gamma=0.95)\n",
    "\n",
    "tr_select = \"A\"\n",
    "model_dir = \"/data/jdli/gaia/model/1205_teff/\" + tr_select\n",
    "\n",
    "if tr_select==\"A\":\n",
    "    tr_loader = A_loader\n",
    "    # check_point = model_dir +\"/sp2_alpha_mse_A_ep200.pt\"\n",
    "\n",
    "elif tr_select==\"B\":\n",
    "    tr_loader = B_loader\n",
    "    # check_point = \"/data/jdli/gaia/model/1119/B/sp2_4labels_mse_B_ep85.pt\"\n",
    "print(\"===================================\")\n",
    "# print(\"Loading checkpoint %s\"%(check_point))\n",
    "# model.load_state_dict(torch.load(check_point))\n",
    "\n",
    "print(\"Traing %s begin\"%tr_select)"
   ]
  },
  {
   "cell_type": "code",
   "execution_count": 5,
   "id": "1313683d-b51e-45ad-8085-6286f34ce7f5",
   "metadata": {},
   "outputs": [
    {
     "name": "stdout",
     "output_type": "stream",
     "text": [
      "epoch 0 train loss:42.9769 | 22.6586 s\n",
      "val loss:85.4371\n",
      "epoch 1 train loss:55.7195 | 22.4517 s\n",
      "epoch 2 train loss:44.3606 | 22.3735 s\n",
      "epoch 3 train loss:50.3621 | 22.2166 s\n"
     ]
    }
   ],
   "source": [
    "def train_epoch(tr_loader, epoch):\n",
    "        # model.train()\n",
    "    model.train()\n",
    "    total_loss = 0.\n",
    "    start_time = time.time()\n",
    "    \n",
    "    for batch, data in enumerate(tr_loader):\n",
    "        output = model(data['x'].view(-1, INPUT_LEN))\n",
    "        loss = cost(output, data['y'][:,0].view(-1,1))\n",
    "        loss_value = loss.item()\n",
    "\n",
    "        optimizer.zero_grad()\n",
    "        loss.backward()\n",
    "        torch.nn.utils.clip_grad_norm_(model.parameters(), 0.5)\n",
    "        optimizer.step()\n",
    "\n",
    "        total_loss+=loss_value\n",
    "        del data, output\n",
    "    print(\"epoch %d train loss:%.4f | %.4f s\"%(epoch, total_loss/(batch+1e-5), time.time()-start_time))\n",
    "    \n",
    "    \n",
    "def eval(val_loader):\n",
    "    model.eval()\n",
    "    total_val_loss=0\n",
    "    \n",
    "    with torch.no_grad():\n",
    "        for bs, data in enumerate(val_loader):\n",
    "            output = model(data['x'].view(-1, INPUT_LEN))\n",
    "            # loss = cost(output, data['y'], data['e_y'])\n",
    "            loss = cost(output, data['y'][:,0].view(-1,1))\n",
    "            total_val_loss+=loss.item()\n",
    "            del data, output\n",
    "\n",
    "    print(\"val loss:%.4f\"%(total_val_loss/(bs+1e-5)))\n",
    "\n",
    "num_epochs = 3\n",
    "for epoch in range(num_epochs+1):\n",
    "    train_epoch(tr_loader, epoch)\n",
    "\n",
    "    if epoch%5==0:\n",
    "        eval(val_loader)\n",
    "    if epoch%50==0: \n",
    "        save_point =  \"/sp2_teff_robustnorm_mse_%s_ep%d.pt\"%(tr_select, epoch)\n",
    "        torch.save(model.state_dict(), model_dir+save_point)\n",
    "\n",
    "# torch.cuda.empty_cache()"
   ]
  },
  {
   "cell_type": "code",
   "execution_count": null,
   "id": "b1e93e61-aee3-434d-beea-81d06b7db5fd",
   "metadata": {},
   "outputs": [],
   "source": []
  }
 ],
 "metadata": {
  "kernelspec": {
   "display_name": "Python 3 (ipykernel)",
   "language": "python",
   "name": "python3"
  },
  "language_info": {
   "codemirror_mode": {
    "name": "ipython",
    "version": 3
   },
   "file_extension": ".py",
   "mimetype": "text/x-python",
   "name": "python",
   "nbconvert_exporter": "python",
   "pygments_lexer": "ipython3",
   "version": "3.9.13"
  }
 },
 "nbformat": 4,
 "nbformat_minor": 5
}
